{
  "nbformat": 4,
  "nbformat_minor": 0,
  "metadata": {
    "colab": {
      "name": "TCS-ION_RIO-210-Aman Kumar.ipynb",
      "provenance": [],
      "collapsed_sections": []
    },
    "kernelspec": {
      "name": "python3",
      "display_name": "Python 3"
    },
    "accelerator": "GPU"
  },
  "cells": [
    {
      "cell_type": "markdown",
      "metadata": {
        "id": "kdOALLHgMu7f",
        "colab_type": "text"
      },
      "source": [
        "**Name:** Aman Kumar\n",
        "\n",
        "**Internship Project Topic:** Automate identification and recognition of handwritten text from an image .\n",
        "\n",
        "**Name of the Organization:** TCS iON\n",
        "\n",
        "**Name of the Industry Mentor:**  Anamika chatterjee/Debashis Roy\n",
        "\n",
        "**Name of the Institute:** GIET University,Gunupur"
      ]
    },
    {
      "cell_type": "markdown",
      "metadata": {
        "id": "4-yKpihT25p8",
        "colab_type": "text"
      },
      "source": [
        "## IN GIVEN BELOW U NEED TO INSTALL IN YOUR CODE "
      ]
    },
    {
      "cell_type": "code",
      "metadata": {
        "id": "Iup9C5Lon-g0",
        "colab_type": "code",
        "colab": {}
      },
      "source": [
        "!sudo add-apt-repository ppa:alex-p/tesseract-ocr"
      ],
      "execution_count": null,
      "outputs": []
    },
    {
      "cell_type": "code",
      "metadata": {
        "id": "RxADPcEA39z-",
        "colab_type": "code",
        "colab": {}
      },
      "source": [
        "!sudo apt-get update"
      ],
      "execution_count": null,
      "outputs": []
    },
    {
      "cell_type": "code",
      "metadata": {
        "id": "bOQf0ryh3_8d",
        "colab_type": "code",
        "colab": {}
      },
      "source": [
        "!sudo apt install tesseract-ocr"
      ],
      "execution_count": null,
      "outputs": []
    },
    {
      "cell_type": "code",
      "metadata": {
        "id": "qUkfdeTq4Bta",
        "colab_type": "code",
        "colab": {}
      },
      "source": [
        "!sudo apt install libtesseract-dev"
      ],
      "execution_count": null,
      "outputs": []
    },
    {
      "cell_type": "code",
      "metadata": {
        "id": "8gSJiO8E4DT6",
        "colab_type": "code",
        "colab": {}
      },
      "source": [
        "!sudo pip install pytesseract"
      ],
      "execution_count": null,
      "outputs": []
    },
    {
      "cell_type": "code",
      "metadata": {
        "id": "4DmjENFFpd9w",
        "colab_type": "code",
        "colab": {}
      },
      "source": [
        "#Checking the installation.\n",
        "!tesseract --version"
      ],
      "execution_count": null,
      "outputs": []
    },
    {
      "cell_type": "markdown",
      "metadata": {
        "id": "0GHxCcNS3EhN",
        "colab_type": "text"
      },
      "source": [
        "#### THIS IS EXTRACTION OF IMAGE FROM THE MY DRIVE "
      ]
    },
    {
      "cell_type": "code",
      "metadata": {
        "colab_type": "code",
        "id": "QSUxFU4CZky7",
        "colab": {
          "base_uri": "https://localhost:8080/",
          "height": 34
        },
        "outputId": "5fc15322-2354-4efe-97b1-e226c9496540"
      },
      "source": [
        "#Image Source Input Module \n",
        "from google.colab import drive\n",
        "drive.mount('/content/drive')\n",
        "\n",
        "filename = ('/content/drive/My Drive/Test Images/test img4.png')\n",
        "\n"
      ],
      "execution_count": null,
      "outputs": [
        {
          "output_type": "stream",
          "text": [
            "Drive already mounted at /content/drive; to attempt to forcibly remount, call drive.mount(\"/content/drive\", force_remount=True).\n"
          ],
          "name": "stdout"
        }
      ]
    },
    {
      "cell_type": "markdown",
      "metadata": {
        "id": "dvyFYwR7zZ59",
        "colab_type": "text"
      },
      "source": [
        "#Test image which can be used to test this project. \n",
        "####The drive path of image is mentioned by default in the Input Module \n",
        "\n",
        "\n",
        "---\n",
        "![alt text](https://www.researchgate.net/profile/Martin_Guggisberg/publication/224759117/figure/fig1/AS:393678939017226@1470871781226/Sample-handwritten-text-input-for-OCR.png)\n",
        "\n",
        "You can download test images and upload it to your google drive in order to test the application or you can use your own too. https://drive.google.com/drive/u/0/folders/1fdqUc6A1TRtlWpOaJlpHmKwRKYCPfEp4\n",
        "---\n",
        "---\n"
      ]
    },
    {
      "cell_type": "markdown",
      "metadata": {
        "id": "qzkn3o9H3QIc",
        "colab_type": "text"
      },
      "source": [
        "# Prediction Module"
      ]
    },
    {
      "cell_type": "code",
      "metadata": {
        "id": "jTrX8LtltFgX",
        "colab_type": "code",
        "colab": {
          "base_uri": "https://localhost:8080/",
          "height": 136
        },
        "outputId": "976dc23d-d7ed-43e0-85fa-fc7f2ce38dbe"
      },
      "source": [
        "import cv2\n",
        "import numpy as np\n",
        "import pytesseract\n",
        "from PIL import Image\n",
        "\n",
        "# Path of working folder on Disk\n",
        "\n",
        "def get_string(img_path):\n",
        "    # Read image with opencv\n",
        "    img = cv2.imread(img_path)\n",
        "\n",
        "    # Convert to gray\n",
        "    img = cv2.cvtColor(img, cv2.COLOR_BGR2GRAY)\n",
        "\n",
        "    # Apply dilation and erosion to remove some noise\n",
        "    kernel = np.ones((1, 1), np.uint8)\n",
        "    img = cv2.dilate(img, kernel, iterations=1)\n",
        "    img = cv2.erode(img, kernel, iterations=1)\n",
        "\n",
        "    # Write image after removed noise\n",
        "    cv2.imwrite(\"removed_noise.png\", img)\n",
        "\n",
        "    #  Apply threshold to get image with only black and white\n",
        "    \n",
        "\n",
        "    # Write the image after apply opencv to do some ...\n",
        "    cv2.imwrite(img_path, img)\n",
        "\n",
        "    # Recognize text with tesseract for python\n",
        "    result = pytesseract.image_to_string(Image.open(img_path))\n",
        "\n",
        "    # Remove template file\n",
        "    \n",
        "\n",
        "    return result\n",
        "\n",
        "\n",
        "print (\"_____The Recognization Process Of Text From The Input Image Started Successfully______\")\n",
        "print (\"The Recognized Text From The Input Image IS:\")\n",
        "print (get_string(filename))\n",
        "\n",
        "print (\"_____Process Finished_______\")"
      ],
      "execution_count": null,
      "outputs": [
        {
          "output_type": "stream",
          "text": [
            "_____The Recognization Process Of Text From The Input Image Started Successfully______\n",
            "The Recognized Text From The Input Image IS:\n",
            "This is a handwritten\n",
            "example\n",
            "\n",
            "Write as qooal as you can.\n",
            "_____Process Finished_______\n"
          ],
          "name": "stdout"
        }
      ]
    }
  ]
}